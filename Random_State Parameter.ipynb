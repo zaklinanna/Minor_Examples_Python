{
 "cells": [
  {
   "cell_type": "markdown",
   "id": "f77f3d22",
   "metadata": {},
   "source": [
    "# random_state parameter in train_test_split() function"
   ]
  },
  {
   "cell_type": "code",
   "execution_count": 1,
   "id": "e3a26702",
   "metadata": {},
   "outputs": [],
   "source": [
    "from sklearn.model_selection import train_test_split"
   ]
  },
  {
   "cell_type": "markdown",
   "id": "6aa09c51",
   "metadata": {},
   "source": [
    "- Let's assume X is our features and y is lables."
   ]
  },
  {
   "cell_type": "code",
   "execution_count": 2,
   "id": "b174f5f6",
   "metadata": {},
   "outputs": [],
   "source": [
    "X = [20, 40, 10, 30 , 50, 90, 80, 70, 30, 60]\n",
    "y = [0, 0, 1, 1, 1, 0, 1, 0, 0, 1]"
   ]
  },
  {
   "cell_type": "markdown",
   "id": "d151de14",
   "metadata": {},
   "source": [
    "#### Execute the code cell below and see the change in the train and test sets."
   ]
  },
  {
   "cell_type": "markdown",
   "id": "3a5f3f44",
   "metadata": {},
   "source": [
    "- Not setting random_state seed will shuffle everytime that we execute the followin code and sets will be differet every time we execute it.\n"
   ]
  },
  {
   "cell_type": "code",
   "execution_count": 6,
   "id": "3f369930",
   "metadata": {},
   "outputs": [
    {
     "name": "stdout",
     "output_type": "stream",
     "text": [
      "[30, 60, 20, 50, 70, 10, 40, 90]\n",
      "[30, 80]\n",
      "[1, 1, 0, 1, 0, 1, 0, 0]\n",
      "[0, 1]\n"
     ]
    }
   ],
   "source": [
    "# Split the data into training and testing sets\n",
    "X_train, X_test, y_train, y_test = train_test_split(X, y, test_size=0.2)\n",
    "\n",
    "print(X_train) \n",
    "print(X_test) \n",
    "print(y_train)\n",
    "print(y_test)"
   ]
  },
  {
   "cell_type": "markdown",
   "id": "0bb84db6",
   "metadata": {},
   "source": [
    "- In this example, setting random_state=42 ensures that the random split is the same every time you run the code. If you change the seed, you'll get a different random split each time."
   ]
  },
  {
   "cell_type": "markdown",
   "id": "942f0935",
   "metadata": {},
   "source": [
    "#### If you execute the following sell again and again, we should get the same set of data."
   ]
  },
  {
   "cell_type": "code",
   "execution_count": 7,
   "id": "5ab45dcc",
   "metadata": {},
   "outputs": [
    {
     "name": "stdout",
     "output_type": "stream",
     "text": [
      "[90, 20, 70, 10, 60, 50, 30, 80]\n",
      "[30, 40]\n",
      "[0, 0, 0, 1, 1, 1, 1, 1]\n",
      "[0, 0]\n"
     ]
    }
   ],
   "source": [
    "# Split the data into training and testing sets\n",
    "X_train, X_test, y_train, y_test = train_test_split(X, y, test_size=0.2, random_state=42)\n",
    "\n",
    "print(X_train) \n",
    "print(X_test) \n",
    "print(y_train)\n",
    "print(y_test)"
   ]
  },
  {
   "cell_type": "code",
   "execution_count": 8,
   "id": "38a7c853",
   "metadata": {},
   "outputs": [
    {
     "name": "stdout",
     "output_type": "stream",
     "text": [
      "[90, 80, 30, 40, 20, 70, 50, 60]\n",
      "[30, 10]\n",
      "[0, 1, 1, 0, 0, 0, 1, 1]\n",
      "[0, 1]\n"
     ]
    }
   ],
   "source": [
    "# Split the data into training and testing sets\n",
    "X_train, X_test, y_train, y_test = train_test_split(X, y, test_size=0.2, random_state=10)\n",
    "\n",
    "print(X_train) \n",
    "print(X_test) \n",
    "print(y_train)\n",
    "print(y_test)"
   ]
  },
  {
   "cell_type": "markdown",
   "id": "fe7aceb9",
   "metadata": {},
   "source": [
    "- Using a fixed seed is particularly useful when you want to share your code with others to train your model on the same train and test data."
   ]
  },
  {
   "cell_type": "markdown",
   "id": "50c74f73",
   "metadata": {},
   "source": [
    "## Let's try on one of the examples that we saw in the class."
   ]
  },
  {
   "cell_type": "markdown",
   "id": "23e7db32",
   "metadata": {},
   "source": [
    "- Not setting the random_state parameter will cause us to have a new set each time we split the data, and training the model with different sets will have different accuracy rates.\n",
    "\n",
    "- So if you run the following cell multiple times, each time you'll get a new accuracy for the same algorithm and the same data set that has been split differently each time you run it."
   ]
  },
  {
   "cell_type": "code",
   "execution_count": 10,
   "id": "a3ad2f23",
   "metadata": {},
   "outputs": [
    {
     "name": "stdout",
     "output_type": "stream",
     "text": [
      "Accuracy: 0.770949720670391\n"
     ]
    },
    {
     "name": "stderr",
     "output_type": "stream",
     "text": [
      "/var/folders/lm/nbcm62f96w391nt1bmq2s6_40000gn/T/ipykernel_11845/1096630401.py:15: SettingWithCopyWarning: \n",
      "A value is trying to be set on a copy of a slice from a DataFrame.\n",
      "Try using .loc[row_indexer,col_indexer] = value instead\n",
      "\n",
      "See the caveats in the documentation: https://pandas.pydata.org/pandas-docs/stable/user_guide/indexing.html#returning-a-view-versus-a-copy\n",
      "  X['Sex'] = X['Sex'].map({'female': 0, 'male': 1})\n"
     ]
    }
   ],
   "source": [
    "import pandas as pd\n",
    "import matplotlib.pyplot as plt\n",
    "from sklearn.model_selection import train_test_split\n",
    "from sklearn.linear_model import LogisticRegression\n",
    "from sklearn.metrics import accuracy_score\n",
    "\n",
    "# Load the Titanic dataset from a CSV file\n",
    "titanic_data = pd.read_csv('titanic_clean.csv')\n",
    "\n",
    "selected_features = ['Age', 'Sex', 'Fare']\n",
    "X = titanic_data[selected_features]\n",
    "y = titanic_data['Survived']\n",
    "\n",
    "# Convert 'Sex' to numerical values (0 for female, 1 for male)\n",
    "X['Sex'] = X['Sex'].map({'female': 0, 'male': 1})\n",
    "\n",
    "# Split the data into training and testing sets\n",
    "X_train, X_test, y_train, y_test = train_test_split(X, y, test_size=0.2)\n",
    "\n",
    "# Create a logistic regression model\n",
    "model = LogisticRegression()\n",
    "\n",
    "# Fit the model on the training data\n",
    "model.fit(X_train, y_train)\n",
    "\n",
    "# Predict survival\n",
    "y_pred = model.predict(X_test)\n",
    "\n",
    "# Calculate accuracy\n",
    "accuracy = accuracy_score(y_test, y_pred)\n",
    "print(f'Accuracy: {accuracy}')"
   ]
  },
  {
   "cell_type": "markdown",
   "id": "328aec20",
   "metadata": {},
   "source": [
    "#### By setting random_state paramters, every execution will give us the same train and dataset and the model will have be the same with same acuracy."
   ]
  },
  {
   "cell_type": "code",
   "execution_count": 19,
   "id": "03c7c1ca",
   "metadata": {},
   "outputs": [
    {
     "name": "stdout",
     "output_type": "stream",
     "text": [
      "Accuracy: 0.776536312849162\n"
     ]
    },
    {
     "name": "stderr",
     "output_type": "stream",
     "text": [
      "/var/folders/lm/nbcm62f96w391nt1bmq2s6_40000gn/T/ipykernel_11845/899124275.py:15: SettingWithCopyWarning: \n",
      "A value is trying to be set on a copy of a slice from a DataFrame.\n",
      "Try using .loc[row_indexer,col_indexer] = value instead\n",
      "\n",
      "See the caveats in the documentation: https://pandas.pydata.org/pandas-docs/stable/user_guide/indexing.html#returning-a-view-versus-a-copy\n",
      "  X['Sex'] = X['Sex'].map({'female': 0, 'male': 1})\n"
     ]
    }
   ],
   "source": [
    "import pandas as pd\n",
    "import matplotlib.pyplot as plt\n",
    "from sklearn.model_selection import train_test_split\n",
    "from sklearn.linear_model import LogisticRegression\n",
    "from sklearn.metrics import accuracy_score\n",
    "\n",
    "# Load the Titanic dataset from a CSV file\n",
    "titanic_data = pd.read_csv('titanic_clean.csv')\n",
    "\n",
    "selected_features = ['Age', 'Sex', 'Fare']\n",
    "X = titanic_data[selected_features]\n",
    "y = titanic_data['Survived']\n",
    "\n",
    "# Convert 'Sex' to numerical values (0 for female, 1 for male)\n",
    "X['Sex'] = X['Sex'].map({'female': 0, 'male': 1})\n",
    "\n",
    "# Split the data into training and testing sets\n",
    "X_train, X_test, y_train, y_test = train_test_split(X, y, test_size=0.2, random_state=42)\n",
    "\n",
    "# Create a logistic regression model\n",
    "model = LogisticRegression()\n",
    "\n",
    "# Fit the model on the training data\n",
    "model.fit(X_train, y_train)\n",
    "\n",
    "# Predict survival\n",
    "y_pred = model.predict(X_test)\n",
    "\n",
    "# Calculate accuracy\n",
    "accuracy = accuracy_score(y_test, y_pred)\n",
    "print(f'Accuracy: {accuracy}')"
   ]
  },
  {
   "cell_type": "markdown",
   "id": "9b6f7aea",
   "metadata": {},
   "source": [
    "### - For furthur information, check the link below that is sci0kit learn documentation.\n",
    "\n",
    "https://scikit-learn.org/stable/modules/generated/sklearn.model_selection.train_test_split.html"
   ]
  },
  {
   "cell_type": "code",
   "execution_count": null,
   "id": "2dcd5ec4",
   "metadata": {},
   "outputs": [],
   "source": []
  }
 ],
 "metadata": {
  "kernelspec": {
   "display_name": "Python 3 (ipykernel)",
   "language": "python",
   "name": "python3"
  },
  "language_info": {
   "codemirror_mode": {
    "name": "ipython",
    "version": 3
   },
   "file_extension": ".py",
   "mimetype": "text/x-python",
   "name": "python",
   "nbconvert_exporter": "python",
   "pygments_lexer": "ipython3",
   "version": "3.11.5"
  }
 },
 "nbformat": 4,
 "nbformat_minor": 5
}
